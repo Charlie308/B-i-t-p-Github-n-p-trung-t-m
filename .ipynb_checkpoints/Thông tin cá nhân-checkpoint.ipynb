{
 "cells": [
  {
   "cell_type": "code",
   "execution_count": 2,
   "id": "c4364b8f",
   "metadata": {},
   "outputs": [
    {
     "name": "stdout",
     "output_type": "stream",
     "text": [
      "Nguyễn Vũ Linh\n",
      "31\n",
      "Khánh Hoà\n"
     ]
    }
   ],
   "source": [
    "ten = \"Nguyễn Vũ Linh\"\n",
    "tuoi = 31\n",
    "que_quan = \"Khánh Hoà\"\n",
    "print(ten)\n",
    "print(tuoi)\n",
    "print(que_quan)"
   ]
  }
 ],
 "metadata": {
  "kernelspec": {
   "display_name": "Python 3 (ipykernel)",
   "language": "python",
   "name": "python3"
  },
  "language_info": {
   "codemirror_mode": {
    "name": "ipython",
    "version": 3
   },
   "file_extension": ".py",
   "mimetype": "text/x-python",
   "name": "python",
   "nbconvert_exporter": "python",
   "pygments_lexer": "ipython3",
   "version": "3.10.6"
  }
 },
 "nbformat": 4,
 "nbformat_minor": 5
}
